{
 "cells": [
  {
   "cell_type": "markdown",
   "metadata": {},
   "source": [
    "# Задание 1\n",
    "\n",
    "(**NB.** для запуска примеров кода нужен Python версии не ниже **3.10**, допускается использование других версий, в этом случае нужно самостоятельно избавиться от конструкции `match`).\n",
    "\n",
    "Есть следующий код для [автоматического дифференцирования](https://en.wikipedia.org/wiki/Automatic_differentiation), в котором используются особенности системы типов языка `Python`: "
   ]
  },
  {
   "cell_type": "code",
   "execution_count": 1,
   "metadata": {},
   "outputs": [],
   "source": [
    "from dataclasses import dataclass\n",
    "from typing import Union, Callable\n",
    "from numbers import Number\n",
    "\n",
    "@dataclass\n",
    "class Dual:\n",
    "    value: float\n",
    "    d: float\n",
    "\n",
    "    def __add__(self, other: Union[\"Dual\", Number]) -> \"Dual\":\n",
    "         match other:\n",
    "            case Dual(o_value, o_d):\n",
    "                return Dual(self.value + o_value, self.d + o_d)\n",
    "            case Number():\n",
    "                return Dual(float(other) + self.value, self.d)\n",
    "\n",
    "    def __mul__(self, other: Union[\"Dual\", Number]) -> \"Dual\":\n",
    "         match other:\n",
    "            case Dual(o_value, o_d):\n",
    "                return Dual(self.value * o_value, self.value * o_d + self.d * o_value)\n",
    "            case Number():\n",
    "                return Dual(float(other) * self.value, float(other) * self.d)    \n",
    "\n",
    "    __rmul__ = __mul__  # https://docs.python.org/3/reference/datamodel.html#object.__mul__\n",
    "    __radd__ = __add__  # https://docs.python.org/3/reference/datamodel.html#object.__radd__\n",
    " \n",
    "\n",
    "def diff(func: Callable[[float], float]) -> Callable[[float], float]:\n",
    "    return lambda x: func(Dual(x, 1.0)).d "
   ]
  },
  {
   "cell_type": "markdown",
   "metadata": {},
   "source": [
    "Поддерживаются две операции - сложение и умножение. Применить можно так:"
   ]
  },
  {
   "cell_type": "code",
   "execution_count": 2,
   "metadata": {},
   "outputs": [
    {
     "data": {
      "text/plain": [
       "22.0"
      ]
     },
     "execution_count": 2,
     "metadata": {},
     "output_type": "execute_result"
    }
   ],
   "source": [
    "# Функция, которую будем дифференцировать\n",
    "def f(x: float) -> float:\n",
    "    return 5 * x * x + 2 * x + 2\n",
    "\n",
    "f_diff = diff(f)\n",
    "\n",
    "# значение производной в точке x = 2\n",
    "f_diff(2)"
   ]
  },
  {
   "cell_type": "markdown",
   "metadata": {},
   "source": [
    "## Задание 1.1 (5 баллов)\n",
    "\n",
    "Какие недостатки вы видите в данной реализации? Реализуйте поддержку (полностью самостоятельно или модифицируя приведенный код):\n",
    "- [унарных операций](https://docs.python.org/3/reference/datamodel.html#object.__neg__) \n",
    "- деления\n",
    "- возведения в степень\n",
    "\n",
    "Каким образом можно проверить корректность решения?  Реализуйте достаточный, по вашему мнению, набор тестов."
   ]
  },
  {
   "cell_type": "code",
   "execution_count": 3,
   "metadata": {},
   "outputs": [],
   "source": [
    "# недостатки - скорость работы, ограниченность мат аппаратом и самой функцией\n",
    "import math\n",
    "\n",
    "@dataclass\n",
    "class Dual:\n",
    "    value: float\n",
    "    d: float\n",
    "\n",
    "    def __add__(self, other: Union[\"Dual\", Number]) -> \"Dual\":\n",
    "        match other:\n",
    "            case Dual(o_value, o_d):\n",
    "                return Dual(self.value + o_value, self.d + o_d)\n",
    "            case Number():\n",
    "                return Dual(float(other) + self.value, self.d)\n",
    "\n",
    "    def __mul__(self, other: Union[\"Dual\", Number]) -> \"Dual\":\n",
    "        match other:\n",
    "            case Dual(o_value, o_d):\n",
    "                return Dual(self.value * o_value, self.value * o_d + self.d * o_value)\n",
    "            case Number():\n",
    "                return Dual(float(other) * self.value, float(other) * self.d)\n",
    "\n",
    "    def __neg__(self) -> \"Dual\":\n",
    "        return Dual(-self.value, -self.d)\n",
    "    def __pos__(self) -> \"Dual\":\n",
    "        return self\n",
    "\n",
    "    def __truediv__(self, other: Union[\"Dual\", Number]) -> \"Dual\":\n",
    "        match other:\n",
    "            case Dual(o_value, o_d):\n",
    "                return Dual(self.value / o_value, (self.d * o_value - self.value * o_d) / (o_value * o_value))\n",
    "            case Number():\n",
    "                return Dual(self.value / float(other),  self.d / float(other))\n",
    "    def __rtruediv__(self, other: Union[\"Dual\", Number]) -> \"Dual\":\n",
    "        match other:\n",
    "            case Dual(o_value, o_d):\n",
    "                return Dual(o_value / self.value, (self.value * o_d - self.d * o_value) / (self.value * self.value))\n",
    "            case Number():\n",
    "                return Dual(float(other) / self.value,  -float(other) / (self.value * self.value) * self.d)\n",
    "\n",
    "    def __pow__(self, other: Union[\"Dual\", Number], modulo=None):\n",
    "        match other:\n",
    "            case Dual(o_value, o_d):\n",
    "                assert False, \"not supported\"\n",
    "            case Number():\n",
    "                return Dual(self.value ** float(other), float(other) * self.value ** (float(other) - 1))\n",
    "    def __rpow__(self, other: Union[\"Dual\", Number], modulo=None):\n",
    "        match other:\n",
    "            case Dual(o_value, o_d):\n",
    "                assert False, \"not supported\"\n",
    "            case Number():\n",
    "                return Dual(float(other) ** self.value, math.log(float(other), math.e) *  float(other) ** self.value)\n",
    "\n",
    "    __rmul__ = __mul__  # https://docs.python.org/3/reference/datamodel.html#object.__mul__\n",
    "    __radd__ = __add__  # https://docs.python.org/3/reference/datamodel.html#object.__radd__\n",
    "    \n",
    "    \n",
    "assert diff(lambda x: 5 * x * x + 2 * x + 2)(2) == 22\n",
    "assert diff(lambda x: -x + 2 * +x + 2)(2) == 1\n",
    "assert diff(lambda x: 5 / x  +  x / 2 + x / x + 2)(2) == -0.75\n",
    "assert (diff(lambda x: x ** 3 + 3 ** x + 2)(2) - 21.887511) < 0.00001"
   ]
  },
  {
   "cell_type": "markdown",
   "metadata": {},
   "source": [
    "## Задание 1.2 (7 баллов)\n",
    "Придумайте способ и реализуйте поддержку функций:\n",
    "- `exp()`\n",
    "- `cos()`\n",
    "- `sin()`\n",
    "- `log()`\n",
    "\n",
    "Добавьте соответствующие тесты"
   ]
  },
  {
   "cell_type": "code",
   "execution_count": 4,
   "metadata": {},
   "outputs": [],
   "source": [
    "class dmath:\n",
    "    @staticmethod\n",
    "    def exp(x: Union[\"Dual\", Number]) -> Union[\"Dual\", Number]:\n",
    "        match x:\n",
    "            case Dual(value, d):\n",
    "                return Dual(math.exp(value), d * math.exp(value))\n",
    "            case Number():\n",
    "                return math.exp(x)\n",
    "\n",
    "    @staticmethod\n",
    "    def cos(x: Union[\"Dual\", Number]) -> Union[\"Dual\", Number]:\n",
    "        match x:\n",
    "            case Dual(value, d):\n",
    "                return Dual(math.cos(value), -math.sin(value) * d)\n",
    "            case Number():\n",
    "                return math.cos(x)\n",
    "\n",
    "    @staticmethod\n",
    "    def sin(x: Union[\"Dual\", Number]) -> Union[\"Dual\", Number]:\n",
    "        match x:\n",
    "            case Dual(value, d):\n",
    "                return Dual(math.sin(value), math.cos(value) * d)\n",
    "            case Number():\n",
    "                return math.sin(x)\n",
    "\n",
    "    @staticmethod\n",
    "    def log(x: Union[\"Dual\", Number]) -> Union[\"Dual\", Number]:\n",
    "        match x:\n",
    "            case Dual(value, d):\n",
    "                return Dual(math.log(value), d / value)\n",
    "            case Number():\n",
    "                return math.log(x)\n",
    "            \n",
    "assert (diff(lambda x: dmath.exp(x) * x)(2) - 22.167168) < 0.00001\n",
    "assert(diff(lambda x: dmath.cos(x) * x)(2) - -2.234742) < 0.00001\n",
    "assert (diff(lambda x: dmath.sin(x) * x)(2) - 0.077004) < 0.00001\n",
    "assert (diff(lambda x: dmath.log(x) * x)(2) - 1.693147) < 0.00001\n",
    "assert (diff(lambda x: dmath.exp(dmath.sin(dmath.cos(dmath.log(x)))) * x)(2) - 1.084534) < 0.00001"
   ]
  },
  {
   "cell_type": "markdown",
   "metadata": {},
   "source": [
    "## Задание 1.3 (3 балла)\n",
    "\n",
    "Воспользуйтесь методами **численного** дифференцирования для \"проверки\" работы кода на нескольких примерах. Например,  библиотеке `scipy` есть функция `derivative`. Или реализуйте какой-нибудь метод численного дифференцирования самостоятельно (**+5 баллов**)"
   ]
  },
  {
   "cell_type": "code",
   "execution_count": 5,
   "metadata": {},
   "outputs": [
    {
     "data": {
      "text/plain": [
       "22.0"
      ]
     },
     "execution_count": 5,
     "metadata": {},
     "output_type": "execute_result"
    }
   ],
   "source": [
    "from scipy.misc import derivative\n",
    "\n",
    "def f(x: float) -> float:\n",
    "    return 5 * x * x + 2 * x + 2\n",
    "\n",
    "derivative(f, 2.)"
   ]
  },
  {
   "cell_type": "code",
   "execution_count": 6,
   "metadata": {},
   "outputs": [
    {
     "data": {
      "text/plain": [
       "21.99999997287705"
      ]
     },
     "execution_count": 6,
     "metadata": {},
     "output_type": "execute_result"
    }
   ],
   "source": [
    "def numerical_derivative_1d(func):\n",
    "    def deriv_func(x):\n",
    "        dx=0.0000001\n",
    "        dy=(func(x+dx)-func(x-dx)) / (2*dx)\n",
    "        return dy\n",
    "        \n",
    "    return deriv_func\n",
    "\n",
    "numerical_derivative_1d(f)(2.)"
   ]
  },
  {
   "cell_type": "markdown",
   "metadata": {},
   "source": [
    "## Задание 1.4 (10 баллов)\n",
    "\n",
    "Необходимо разработать систему автоматического тестирования алгоритма дифференцирования в следующем виде:\n",
    "- реализовать механизм генерации \"случайных функций\" (например, что-то вроде такого: $f(x) = x + 5 * x - \\cos(20 * \\log(12 - 20 * x * x )) - 20 * x$ )\n",
    "- сгенерировать достаточно большое число функций и сравнить результаты символьного и численного дифференцирования в случайных точках "
   ]
  },
  {
   "cell_type": "markdown",
   "metadata": {},
   "source": [
    "Генерацию случайных функций можно осуществить, например, двумя путями. \n",
    "1. Генерировать функцию в текстовом виде, зачем использовать встроенную функцию [eval](https://docs.python.org/3/library/functions.html#eval)\n",
    "\n",
    "```python\n",
    "func = eval(\"lambda x: 2 * x + 5\")\n",
    "assert func(42) == 89 \n",
    "```\n",
    "\n",
    "2. Использовать стандартный модуль [ast](https://docs.python.org/3/library/ast.html), который позволяет во время выполнения программы манипулировать [Абстрактным Синтаксическим Деревом](https://ru.wikipedia.org/wiki/%D0%90%D0%B1%D1%81%D1%82%D1%80%D0%B0%D0%BA%D1%82%D0%BD%D0%BE%D0%B5_%D1%81%D0%B8%D0%BD%D1%82%D0%B0%D0%BA%D1%81%D0%B8%D1%87%D0%B5%D1%81%D0%BA%D0%BE%D0%B5_%D0%B4%D0%B5%D1%80%D0%B5%D0%B2%D0%BE).\n",
    "Например, выражение \n",
    "\n",
    "```python\n",
    "func = lambda x: 2 * x + 5\n",
    "```\n",
    "\n",
    "Можно запрограммировать с помощью кода:\n",
    "\n",
    "```python\n",
    "\n",
    "expr = ast.Expression(\n",
    "    body=ast.Lambda(\n",
    "        args=ast.arguments(\n",
    "            args=[\n",
    "                ast.arg(arg='x')\n",
    "            ],\n",
    "            posonlyargs=[],\n",
    "            kwonlyargs=[],\n",
    "            kw_defaults=[],\n",
    "            defaults=[]\n",
    "        ),\n",
    "        body=ast.BinOp(\n",
    "            left=ast.BinOp(\n",
    "                left=ast.Constant(value=2),\n",
    "                op=ast.Mult(),\n",
    "                right=ast.Name(id='x', ctx=ast.Load())\n",
    "            ),\n",
    "            op=ast.Add(),\n",
    "            right=ast.Constant(value=5)\n",
    "        )\n",
    "    )\n",
    ")\n",
    "\n",
    "ast.fix_missing_locations(expr)\n",
    "\n",
    "func = eval(compile(expr, filename=\"\", mode=\"eval\"))\n",
    "\n",
    "assert func(42) == 89\n",
    "```\n",
    "\n",
    "При реализации нужно учитывать области допустимых значений функций."
   ]
  },
  {
   "cell_type": "code",
   "execution_count": 7,
   "metadata": {},
   "outputs": [
    {
     "name": "stdout",
     "output_type": "stream",
     "text": [
      "all tested ok!\n"
     ]
    }
   ],
   "source": [
    "import random\n",
    "\n",
    "def rand_function():\n",
    "    s = \"lambda x: \"\n",
    "    signs = [' + ', ' * ', ' / ']\n",
    "    brackets = '()'\n",
    "    fs = ['dmath.sin(', 'dmath.cos(', 'dmath.log(', 'dmath.exp(']\n",
    "    fs2 = ['dmath.sin(', 'dmath.cos(']\n",
    "    pow_sign = ' ** '\n",
    "\n",
    "    for i in range(random.randint(1, 100)):\n",
    "        op = random.randint(0, 4)\n",
    "        if op == 0:\n",
    "            if random.randint(0, 1) == 0:\n",
    "                s += 'x' + random.choice(signs)\n",
    "            else:\n",
    "                s += random.choice(fs2)\n",
    "                if random.randint(0, 1) == 0:\n",
    "                    s += 'x' + brackets[1] + random.choice(signs)\n",
    "                else:\n",
    "                    s += random.choice(fs2) + 'x' + brackets[1] + brackets[1] + random.choice(signs)\n",
    "        elif op == 1:\n",
    "            s += str(random.uniform(-10, 10)) + random.choice(signs)\n",
    "        elif op == 2:\n",
    "            s += random.choice(fs) + 'x' + brackets[1]  + random.choice(signs)\n",
    "        elif op == 3:\n",
    "            s += 'x' + pow_sign + str(random.uniform(-3, 3)) + random.choice(signs)\n",
    "        elif op == 4:\n",
    "            s += str(random.uniform(-3, 3)) + pow_sign + 'x' + random.choice(signs)\n",
    "\n",
    "\n",
    "    s += 'x'\n",
    "    return s\n",
    "\n",
    "for i in range(5000):\n",
    "    r = rand_function()\n",
    "    point = random.uniform(0.1, 10)\n",
    "    ll = diff(eval(r))(point)\n",
    "    rr = numerical_derivative_1d(eval(r))(point)\n",
    "    # немного сложное условие, чтобы не было проблем с пограничными случаями для очень больших и очень маленьких чисел\n",
    "    assert abs(ll - rr) <= 0.001 * max(abs(ll), abs(rr)) or abs(ll - rr) <= 0.001, str(ll) + \" \" + str(rr)\n",
    "\n",
    "print(\"all tested ok!\")"
   ]
  },
  {
   "cell_type": "markdown",
   "metadata": {},
   "source": [
    "## Задание 1.5 (7 баллов)\n",
    "\n",
    "Реализуйте поддержку функций нескольких аргументов. Например\n",
    "\n",
    "```python\n",
    "def f(x: float, y: float, z: float) -> float:\n",
    "    return x * y + z - 5 * y  \n",
    "\n",
    "\n",
    "f_diff = diff(f)\n",
    "\n",
    "f_diff(10, 10, 10) # = [10, 5, 1]\n",
    "```"
   ]
  },
  {
   "cell_type": "code",
   "execution_count": 8,
   "metadata": {},
   "outputs": [],
   "source": [
    "def diff_multy(func: Callable):\n",
    "    def r(*args, **kwargs):\n",
    "        if kwargs:\n",
    "            ans = []\n",
    "            for i, v in kwargs.items():\n",
    "                wer = set(kwargs.items())\n",
    "                erw = set({i: v}.items())\n",
    "                diff = dict(wer - erw)\n",
    "\n",
    "                diff[i] = Dual(v, 1.0)\n",
    "\n",
    "                p = func(**diff).d\n",
    "                ans.append(p)\n",
    "            return ans\n",
    "        else:\n",
    "            assert args\n",
    "            ans = []\n",
    "            for i in range(len(args)):\n",
    "                diff = list(args)\n",
    "                diff[i] = Dual(args[i], 1.0)\n",
    "                diff = tuple(diff)\n",
    "\n",
    "                p = func(*diff).d\n",
    "                ans.append(p)\n",
    "            return ans\n",
    "    return r\n"
   ]
  },
  {
   "cell_type": "code",
   "execution_count": 9,
   "metadata": {},
   "outputs": [
    {
     "name": "stdout",
     "output_type": "stream",
     "text": [
      "[2.0, 3.0, 4.0]\n",
      "[2.0, 3.0, 4.0]\n"
     ]
    }
   ],
   "source": [
    "def f_multy(x,y,z):\n",
    "    return x*x + y**3 + z**4\n",
    "\n",
    "f_multy_d = diff_multy(f_multy)\n",
    "print(f_multy_d(1, 1, 1))\n",
    "print(f_multy_d(x=1, y=1, z=1))"
   ]
  }
 ],
 "metadata": {
  "kernelspec": {
   "display_name": "311_venv",
   "language": "python",
   "name": "311_venv"
  },
  "language_info": {
   "codemirror_mode": {
    "name": "ipython",
    "version": 3
   },
   "file_extension": ".py",
   "mimetype": "text/x-python",
   "name": "python",
   "nbconvert_exporter": "python",
   "pygments_lexer": "ipython3",
   "version": "3.11.0"
  },
  "vscode": {
   "interpreter": {
    "hash": "916dbcbb3f70747c44a77c7bcd40155683ae19c65e1c03b4aa3499c5328201f1"
   }
  }
 },
 "nbformat": 4,
 "nbformat_minor": 2
}
